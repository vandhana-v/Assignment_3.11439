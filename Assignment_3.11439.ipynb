{
 "cells": [
  {
   "cell_type": "code",
   "execution_count": 21,
   "metadata": {},
   "outputs": [],
   "source": [
    "#importing numpy package\n",
    "import numpy as np\n"
   ]
  },
  {
   "cell_type": "code",
   "execution_count": 23,
   "metadata": {},
   "outputs": [
    {
     "name": "stdout",
     "output_type": "stream",
     "text": [
      "Exception handled is: division by zero \n"
     ]
    }
   ],
   "source": [
    "'''Task 1.\n",
    "1. Write a function to compute 5/0 and use try/except to catch the exceptions.'''\n",
    "\n",
    "#Function to compute 5/0\n",
    "def division(): \n",
    "    \n",
    "    #variables declaration\n",
    "    a = 5\n",
    "    b = 0\n",
    "    #try block\n",
    "    try:\n",
    "        quotient = a/b\n",
    "            \n",
    "    #except block printing the exception message\n",
    "    except ZeroDivisionError as e:\n",
    "        print(\"Exception handled is: %s \"%e)\n",
    "        \n",
    "    #else block printing the quotient value if denominator is not equal to 0\n",
    "    else:\n",
    "            print(\"Quotient value: %d \"% quotient)\n",
    "            \n",
    "\n",
    "# function_call\n",
    "division()"
   ]
  },
  {
   "cell_type": "code",
   "execution_count": 4,
   "metadata": {},
   "outputs": [
    {
     "name": "stdout",
     "output_type": "stream",
     "text": [
      "Americans play Baseball\n",
      "Americans play Cricket\n",
      "Americans watch Baseball\n",
      "Americans watch Cricket\n",
      "Indians play Baseball\n",
      "Indians play Cricket\n",
      "Indians watch Baseball\n",
      "Indians watch Cricket\n"
     ]
    }
   ],
   "source": [
    "'''2. Implement a Python program to generate all sentences where subject is in [\"Americans\",\n",
    "\"Indians\"] and verb is in [\"Play\", \"watch\"] and the object is in [\"Baseball\",\"cricket\"].'''\n",
    "\n",
    "#input lists\n",
    "subjects=[\"Americans\",\"Indians\"]\n",
    "verbs=[\"play\",\"watch\"]\n",
    "objects=[\"Baseball\",\"Cricket\"]\n",
    "\n",
    "#function to generate sentences, returns list of generated sentences\n",
    "def gen_sentence():\n",
    "    \n",
    "    output = [i+\" \"+j+\" \"+k for i in subjects for j in verbs for k in objects]\n",
    "    return output\n",
    " \n",
    "\n",
    "#function call\n",
    "output_list = gen_sentence()\n",
    "#prints the generated sentences\n",
    "for i in output_list:\n",
    "    print(i)\n"
   ]
  },
  {
   "cell_type": "code",
   "execution_count": 16,
   "metadata": {},
   "outputs": [
    {
     "name": "stdout",
     "output_type": "stream",
     "text": [
      "[[ 1  1  1]\n",
      " [ 4  2  1]\n",
      " [ 9  3  1]\n",
      " [25  5  1]]\n",
      "[[ 1  1  1]\n",
      " [ 1  2  4]\n",
      " [ 1  3  9]\n",
      " [ 1  5 25]]\n"
     ]
    }
   ],
   "source": [
    "'''Task 2:\n",
    "   Write a function so that the columns of the output matrix are powers of the input vector.\n",
    "   The order of the powers is determined by the increasing boolean argument. Specifically, when\n",
    "   increasing is False, the i-th output column is the input vector raised element-wise to the power\n",
    "   of N - i - 1.\n",
    "'''\n",
    "\n",
    "#Implementation using numpy's in-built vander() function\n",
    "'''x- input array, \n",
    "   N -number of columns in output array, \n",
    "   increasing = boolean argument(True/False)'''\n",
    "\n",
    "#input numpy array\n",
    "x = np.array([1, 2, 3, 5])\n",
    "N = 3\n",
    "\n",
    "#function call with increasing argument = False\n",
    "print(np.vander(x, N, False))\n",
    "\n",
    "#function call with increasing argument = True\n",
    "print(np.vander(x, N, True))\n"
   ]
  },
  {
   "cell_type": "code",
   "execution_count": 17,
   "metadata": {},
   "outputs": [],
   "source": [
    "#Own implementation of vander() using numpy\n",
    "'''x- input array, \n",
    "   N -number of columns in output array,\n",
    "   increasing = boolean argument(True/False)\n",
    "   N and increasing values are taken from the user\n",
    "    '''\n",
    "\n",
    "#function accepts x-input array, N- number of columns in output, increasing - increasing boolean argument\n",
    "def my_vander_funcn(x,N,increasing):\n",
    "    \n",
    "    if increasing ==  \"True\":\n",
    "        output_array = np.column_stack([x**i for i in range(N)])\n",
    "    else:\n",
    "        output_array = np.column_stack([x**(N-1-i) for i in range(N)])\n",
    "\n",
    "    return output_array\n"
   ]
  },
  {
   "cell_type": "code",
   "execution_count": 20,
   "metadata": {},
   "outputs": [
    {
     "name": "stdout",
     "output_type": "stream",
     "text": [
      "Enter N value: 0\n",
      "Enter increasing param value: False\n",
      "[[  1   1   1   1]\n",
      " [  8   4   2   1]\n",
      " [ 27   9   3   1]\n",
      " [125  25   5   1]]\n"
     ]
    }
   ],
   "source": [
    "'''x- input array\n",
    "   N- Number of columns in output(obtained from user)\n",
    "      If N == 0, length of array is taken to be N\n",
    "   increasing - increasing boolean argument -True/False(obtained from user)'''\n",
    "\n",
    "x = np.array([1, 2, 3, 5])\n",
    "\n",
    "N = int(input(\"Enter N value: \"))\n",
    "if(N == 0):\n",
    "    N = len(x)\n",
    "    \n",
    "increasing = input(\"Enter increasing param value: \")\n",
    "output_array = my_vander_funcn(x, N, increasing)\n",
    "print(output_array)"
   ]
  },
  {
   "cell_type": "code",
   "execution_count": null,
   "metadata": {},
   "outputs": [],
   "source": []
  },
  {
   "cell_type": "code",
   "execution_count": null,
   "metadata": {},
   "outputs": [],
   "source": []
  }
 ],
 "metadata": {
  "kernelspec": {
   "display_name": "Python 3",
   "language": "python",
   "name": "python3"
  },
  "language_info": {
   "codemirror_mode": {
    "name": "ipython",
    "version": 3
   },
   "file_extension": ".py",
   "mimetype": "text/x-python",
   "name": "python",
   "nbconvert_exporter": "python",
   "pygments_lexer": "ipython3",
   "version": "3.7.0"
  }
 },
 "nbformat": 4,
 "nbformat_minor": 2
}
